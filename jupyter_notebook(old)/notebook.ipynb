{
  "cells": [
    {
      "metadata": {
        "id": "2996bc265a81823a"
      },
      "cell_type": "code",
      "source": [
        "import re"
      ],
      "id": "2996bc265a81823a",
      "outputs": [],
      "execution_count": null
    },
    {
      "metadata": {
        "id": "df56f78e0e0d6aca"
      },
      "cell_type": "code",
      "source": [
        "def conv_frac(text):\n",
        "    pattern = r'\\\\frac\\{(.*?)\\}\\{(.*?)\\}'\n",
        "    replaced = re.sub(pattern, r'{\\1}over{\\2}', text)\n",
        "    return replaced"
      ],
      "id": "df56f78e0e0d6aca",
      "outputs": [],
      "execution_count": null
    },
    {
      "metadata": {
        "id": "6904528c7a6cbc"
      },
      "cell_type": "code",
      "source": [
        "def conv_rm(text):\n",
        "    pattern = r'\\\\mathrm\\{(.*?)\\}'\n",
        "    replaced = re.sub(pattern, r'rm{\\1}it', text)\n",
        "    return replaced"
      ],
      "id": "6904528c7a6cbc",
      "outputs": [],
      "execution_count": null
    },
    {
      "cell_type": "code",
      "source": [
        "def conv_txt(text):\n",
        "  pattern=r'\\\\text \\{(.*?)\\}'\n",
        "  replaced = re.sub(pattern, r'\\1',text)\n",
        "  return replaced"
      ],
      "metadata": {
        "id": "QKL8OrpVhsEh"
      },
      "id": "QKL8OrpVhsEh",
      "execution_count": null,
      "outputs": []
    },
    {
      "metadata": {
        "id": "3b0d0add5195c162"
      },
      "cell_type": "code",
      "source": [
        "def conv_upper_sub(text):\n",
        "    text = re.sub(r'_(.)([^{}\\s])', r'_\\1 \\2', text)\n",
        "    text = re.sub(r'\\^(.)([^{}\\s])', r'^\\1 \\2', text)\n",
        "    return text"
      ],
      "id": "3b0d0add5195c162",
      "outputs": [],
      "execution_count": null
    },
    {
      "metadata": {
        "id": "2ec20c96cd1eb45f"
      },
      "cell_type": "code",
      "source": [
        "def conv_cases(text):\n",
        "    return re.sub(\n",
        "        r'\\\\begin{cases}(.*?)\\\\end{cases}',\n",
        "        r'cases{\\1}',\n",
        "        text,\n",
        "        flags=re.DOTALL\n",
        "    )"
      ],
      "id": "2ec20c96cd1eb45f",
      "outputs": [],
      "execution_count": null
    },
    {
      "cell_type": "code",
      "source": [
        "def conv_cases2(text):\n",
        "    pattern = r'\\\\left\\\\{\\\\begin{array}{(.*?)}(.*?)\\\\end{array'\n",
        "    replaced = re.sub(pattern,r'cases{ \\2 }',text)\n",
        "    return replaced"
      ],
      "metadata": {
        "id": "ZEkvW-2DJIao"
      },
      "id": "ZEkvW-2DJIao",
      "execution_count": null,
      "outputs": []
    },
    {
      "cell_type": "code",
      "source": [
        "def conv_aligned(text):\n",
        "    pattern = r'\\\\begin{aligned}(.*?)\\\\end{aligned}'\n",
        "    replaced = re.sub(pattern, r'{ \\1 }',text)\n",
        "    return replaced"
      ],
      "metadata": {
        "id": "sMH0enOZiEwJ"
      },
      "id": "sMH0enOZiEwJ",
      "execution_count": 179,
      "outputs": []
    },
    {
      "metadata": {
        "id": "abd1f85b9015ac7d"
      },
      "cell_type": "code",
      "source": [
        "def conv_root(text):\n",
        "    return re.sub(r'\\\\sqrt\\[(.*?)\\]\\{(.*?)\\}', r'root{\\1}of{\\2}', text)\n"
      ],
      "id": "abd1f85b9015ac7d",
      "outputs": [],
      "execution_count": null
    },
    {
      "metadata": {
        "id": "3395cefaa9012900"
      },
      "cell_type": "code",
      "source": [
        "def conv_oper(text):\n",
        "    rst = text\n",
        "    rst = rst.replace(\"+\",\" +\")\n",
        "    rst = rst.replace(\"-\",\" -\")\n",
        "    rst = rst.replace(\"=\",\" =\")\n",
        "    rst = rst.replace(\"to\",\" -> \")\n",
        "    rst = rst.replace(\"Leftrightarrow\",\"LRARROW\")####\n",
        "    rst = rst.replace(\"pm\",\" +- \")\n",
        "    return rst"
      ],
      "id": "3395cefaa9012900",
      "outputs": [],
      "execution_count": null
    },
    {
      "cell_type": "code",
      "source": [
        "def conv_deco(text):\n",
        "    pattern = r'bar{(.*?)}'\n",
        "    replaced = re.sub(pattern,r'{bar{\\1}}',text)\n",
        "    return replaced"
      ],
      "metadata": {
        "id": "YQWvRn0C-N4b"
      },
      "id": "YQWvRn0C-N4b",
      "execution_count": null,
      "outputs": []
    },
    {
      "metadata": {
        "id": "eb783b44fe2da4d4"
      },
      "cell_type": "code",
      "source": [
        "def conv_supr(text):\n",
        "    text = text.replace(\"\\\\overline{\", \"bar{\")\n",
        "    text = text.replace(\"\\\\overrightarrow{\", \"vec{\")\n",
        "    text = text.replace(\"\\\\mid\", \"vert\")####\n",
        "    text = text.replace(\"\\\\{\",\"left{\")####\n",
        "    text = text.replace(\"\\\\}\",\"right}\")####\n",
        "    text = text.replace(\"{\",\"{`\")####\n",
        "    text = text.replace(\"leftleft\",\"left\")####\n",
        "    text = text.replace(\"rightright\",\"right\")####\n",
        "    return text"
      ],
      "id": "eb783b44fe2da4d4",
      "outputs": [],
      "execution_count": null
    },
    {
      "metadata": {
        "id": "94934262c6e7469c"
      },
      "cell_type": "code",
      "source": [
        "def conv_space(text):\n",
        "    text = text.replace(\"\\\\,\",\"`\")\n",
        "    text = text.replace(\"\\\\quad\",\"~\")\n",
        "    text = text.replace(\"\\\\\\\\\",\"#\")\n",
        "    return text"
      ],
      "id": "94934262c6e7469c",
      "outputs": [],
      "execution_count": null
    },
    {
      "metadata": {
        "id": "532c78394e039239"
      },
      "cell_type": "code",
      "source": [
        "def conv_tex2hwp_eq(text):\n",
        "    rst = text\n",
        "    rst = rst.replace('$$','\\n')\n",
        "    rst = rst.replace('$\\n',\"#\")####\n",
        "\n",
        "    rst = conv_txt(rst)\n",
        "    rst = conv_cases(rst)\n",
        "    rst = conv_cases2(rst)\n",
        "    rst = conv_aligned(rst)\n",
        "    rst = conv_oper(rst)\n",
        "    rst = conv_supr(rst)\n",
        "\n",
        "    for i in range(10):\n",
        "        rst = conv_frac(rst)\n",
        "    rst = conv_rm(rst)\n",
        "\n",
        "    rst = conv_root(rst)\n",
        "    rst = conv_upper_sub(rst)\n",
        "    rst = conv_space(rst)\n",
        "    rst = rst.replace(\"\\\\\",\" \")####\n",
        "    rst = rst.replace(\"$\",\"\")####\n",
        "    rst = conv_deco(rst)\n",
        "    return rst\n",
        "\n",
        "\n",
        "\n"
      ],
      "id": "532c78394e039239",
      "outputs": [],
      "execution_count": 177
    },
    {
      "metadata": {
        "id": "fbc121e30a2defb3"
      },
      "cell_type": "code",
      "source": [
        "org= r\"/content/temp.txt\""
      ],
      "id": "fbc121e30a2defb3",
      "outputs": [],
      "execution_count": null
    },
    {
      "cell_type": "markdown",
      "source": [],
      "metadata": {
        "id": "lEXmA5UE86L9"
      },
      "id": "lEXmA5UE86L9"
    },
    {
      "metadata": {
        "id": "dec9b87c8f34c3f7"
      },
      "cell_type": "markdown",
      "source": [
        "# Latex to HwpEQN\n",
        "---\n",
        "Mathpix, chatGPT등을 이용하여 얻은 latex수식을 아래아한글(hancom)에서 사용할수 있게, 수식을 변형해주는 툴입니다.\n",
        "\n",
        "사용방법은 다음과 같습니다.\n",
        "\n",
        "1. temp.txt에 사용할 latex 파일의 일부를 복사 붙여넣기한다.\n",
        "2. 바로 밑의 코드를 실행시킨다.\n",
        "3. 코드의 결과물로 해당 latex의 수식부분만 hwpEQN에 맞게 convert가 된다.\n",
        "4. 한글에 작성하면서 수식부분을 밑에서 복사해서 붙여넣기 하면서 사용한다.\n",
        "\n",
        "---\n",
        "### 구현된 기능\n",
        "---\n",
        "- 분수 (fraction)\n",
        "- 루트 (sqrt)\n",
        "- case문 (약간의 수정이 필요할 수 있음)\n",
        "- bar, vec기호\n",
        "- 정자체\n",
        "-"
      ],
      "id": "dec9b87c8f34c3f7"
    },
    {
      "metadata": {
        "colab": {
          "base_uri": "https://localhost:8080/"
        },
        "id": "6ed6500f5024158c",
        "outputId": "190682a9-9e8d-495f-e547-c07b31a8abd8"
      },
      "cell_type": "code",
      "source": [
        "with open(org) as file:\n",
        "    for txt in file:\n",
        "        print(conv_tex2hwp_eq(txt))"
      ],
      "id": "6ed6500f5024158c",
      "outputs": [
        {
          "output_type": "stream",
          "name": "stdout",
          "text": [
            "\n",
            "\n",
            "a_{ `n} = sqrt{`2 n -1} 이므로 주어진 부등식은\n",
            "\n",
            "\n",
            "\n",
            "\n",
            " begin{`equation*}\n",
            "\n",
            " sum_{ `m =1}^{ `n^{ `2}} {`1}over{` sqrt{`2 m -1}}  geq n  tag{`2}\n",
            "\n",
            " end{`equation*}\n",
            "\n",
            "\n",
            "\n",
            "\n",
            "\n",
            "\n",
            "이다.\n",
            "\n",
            "n =1 일 때 {`1}over{` sqrt{`1}}  geq 1 이므로 (2)가 성립한다.\n",
            "\n",
            "n =k 일 때 부등식  sum_{ `m =1}^{ `k^{ `2}} {`1}over{` sqrt{`2 m -1}}  geq k 가 성립한다고 가정하자.\n",
            "\n",
            "위 부등식의 양변에 {`1}over{` sqrt{`2 k^{ `2} +1}} +{`1}over{` sqrt{`2 k^{ `2} +3}} + cdots +{`1}over{` sqrt{`2(k +1)^{ `2} -1}} 을 더하면\n",
            "\n",
            "\n",
            "\n",
            "\n",
            " begin{`aligned}\n",
            "\n",
            "&  sum_{ `m =1}^{ `k^{ `2}} {`1}over{` sqrt{`2 m -1}} +{`1}over{` sqrt{`2 k^{ `2} +1}} +{`1}over{` sqrt{`2 k^{ `2} +3}} + cdots +{`1}over{` sqrt{`2(k +1)^{ `2} -1}} #\n",
            "\n",
            "& ~  geq k +{`1}over{` sqrt{`2 k^{ `2} +1}} +{`1}over{` sqrt{`2 k^{ `2} +3}} + cdots +{`1}over{` sqrt{`2(k +1)^{ `2} -1}}\n",
            "\n",
            " end{`aligned}\n",
            "\n",
            "\n",
            "\n",
            "\n",
            "\n",
            "\n",
            "여기에서,\n",
            "\n",
            "\n",
            "\n",
            "\n",
            " sum_{ `m =1}^{ `k^{ `2}} {`1}over{` sqrt{`2 m -1}} +{`1}over{` sqrt{`2 k^{ `2} +1}} +{`1}over{` sqrt{`2 k^{ `2} +3}} + cdots +{`1}over{` sqrt{`2(k +1)^{ `2} -1}} = sum_{ `m =1}^{ `(k +1)^{ `2}} {`1}over{` sqrt{`2 m -1}} ~  이고 \n",
            "\n",
            "\n",
            "\n",
            "\n",
            "\n",
            "\n",
            "{`1}over{` sqrt{`2 k^{ `2} +1}} +{`1}over{` sqrt{`2 k^{ `2} +3}} + cdots +{`1}over{` sqrt{`2(k +1)^{ `2} -1}} 의 항의 개수는 2 k +1 이므로\n",
            "\n",
            "\n",
            "\n",
            "\n",
            " sum_{ `m =1}^{ `(k +1)^{ `2}} {`1}over{`a_{ `m}}  geq k +{`2 k +1}over{` sqrt{`2(k +1)^{ `2} -1}} =k + sqrt{`{`4 k^{ `2} +4 k +1}over{`2 k^{ `2} +4 k +1}} =k + sqrt{`1 +{`2 k^{ `2}}over{`2 k^{ `2} +4 k +1}}  geq k +1\n",
            "\n",
            "\n",
            "\n",
            "\n",
            "\n",
            "\n",
            "이므로 n =k +1 일 때도 (2)가 성립한다. 따라서 모든 자연수 n 에서 주어진 부등식이 성립한다.\n"
          ]
        }
      ],
      "execution_count": 184
    },
    {
      "cell_type": "code",
      "source": [],
      "metadata": {
        "id": "rp32VtbiJ3aA"
      },
      "id": "rp32VtbiJ3aA",
      "execution_count": null,
      "outputs": []
    },
    {
      "cell_type": "markdown",
      "source": [
        "\n",
        "\n",
        "![](https://cdn.mathpix.com/cropped/2025_05_14_0ebd7ba9a89f49ecb5f9g-17.jpg?height=369&width=377&top_left_y=368&top_left_x=1270)"
      ],
      "metadata": {
        "id": "u5HC0wBilDA5"
      },
      "id": "u5HC0wBilDA5"
    },
    {
      "cell_type": "code",
      "source": [],
      "metadata": {
        "id": "aUpXRz5sfr4v"
      },
      "id": "aUpXRz5sfr4v",
      "execution_count": null,
      "outputs": []
    }
  ],
  "metadata": {
    "kernelspec": {
      "display_name": "Python 3",
      "language": "python",
      "name": "python3"
    },
    "language_info": {
      "codemirror_mode": {
        "name": "ipython",
        "version": 2
      },
      "file_extension": ".py",
      "mimetype": "text/x-python",
      "name": "python",
      "nbconvert_exporter": "python",
      "pygments_lexer": "ipython2",
      "version": "2.7.6"
    },
    "colab": {
      "provenance": []
    }
  },
  "nbformat": 4,
  "nbformat_minor": 5
}